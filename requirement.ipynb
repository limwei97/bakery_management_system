{
 "cells": [
  {
   "cell_type": "markdown",
   "metadata": {},
   "source": [
    "Customer\n",
    "1. Customer account management: create, manage, login and update personal information\n",
    "2. Product browsing: customers can explore a variety of bakery items available for purchase\n",
    "3. Cart Management: Customers can add, remove, or modify items in their shopping cart\n",
    "4. Order Tracking: Monitor the status of placed orders.\n",
    "5. Product Review: Customers can share feedback and suggestions about purchased products."
   ]
  },
  {
   "cell_type": "markdown",
   "metadata": {},
   "source": [
    "menu driven \n",
    "comment, variable naming convention\n",
    "no global variable"
   ]
  },
  {
   "cell_type": "markdown",
   "metadata": {},
   "source": [
    "validation against each user input\n",
    "state logical in function\n",
    "use symbolic constant \n",
    "store data in text file\n",
    "no build in functions \n",
    "include file handling, error and exception handling, modules"
   ]
  }
 ],
 "metadata": {
  "language_info": {
   "name": "python"
  }
 },
 "nbformat": 4,
 "nbformat_minor": 2
}
